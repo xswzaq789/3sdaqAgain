{
 "cells": [
  {
   "cell_type": "code",
   "execution_count": 423,
   "id": "11551f9e",
   "metadata": {},
   "outputs": [],
   "source": [
    "import numpy as np \n",
    "import pandas as pd \n",
    "import re\n",
    "\n",
    "from time import sleep\n",
    "import time as time\n"
   ]
  },
  {
   "cell_type": "code",
   "execution_count": 424,
   "id": "a21d64c1",
   "metadata": {},
   "outputs": [],
   "source": [
    "sample_data = pd.read_csv('c:/users/crid2/ml-data/news_headline_2021.csv' ,header=None)"
   ]
  },
  {
   "cell_type": "code",
   "execution_count": 425,
   "id": "66cf0b89",
   "metadata": {},
   "outputs": [],
   "source": [
    "news_title= sample_data.T\n",
    "news_title.columns = ['title'] \n",
    "news_title['label'] = 0 \n",
    "news_title.to_csv('new_sample.csv')\n"
   ]
  },
  {
   "cell_type": "code",
   "execution_count": 426,
   "id": "c7ff30de",
   "metadata": {},
   "outputs": [
    {
     "data": {
      "text/html": [
       "<div>\n",
       "<style scoped>\n",
       "    .dataframe tbody tr th:only-of-type {\n",
       "        vertical-align: middle;\n",
       "    }\n",
       "\n",
       "    .dataframe tbody tr th {\n",
       "        vertical-align: top;\n",
       "    }\n",
       "\n",
       "    .dataframe thead th {\n",
       "        text-align: right;\n",
       "    }\n",
       "</style>\n",
       "<table border=\"1\" class=\"dataframe\">\n",
       "  <thead>\n",
       "    <tr style=\"text-align: right;\">\n",
       "      <th></th>\n",
       "      <th>title</th>\n",
       "      <th>label</th>\n",
       "    </tr>\n",
       "  </thead>\n",
       "  <tbody>\n",
       "    <tr>\n",
       "      <th>0</th>\n",
       "      <td>[레이더M] \"3년내 운용 자산 2조 규모 세계적 VC로 도약할 것＂</td>\n",
       "      <td>0</td>\n",
       "    </tr>\n",
       "    <tr>\n",
       "      <th>1</th>\n",
       "      <td>샐바시온, '코빅실-V' 임상실험 완료…최종 분석 중, 결과 학술지 게재 예정</td>\n",
       "      <td>0</td>\n",
       "    </tr>\n",
       "    <tr>\n",
       "      <th>2</th>\n",
       "      <td>삼성자산운용 메타버스 액티브 ETF 순자산 3000억원 돌파</td>\n",
       "      <td>0</td>\n",
       "    </tr>\n",
       "    <tr>\n",
       "      <th>3</th>\n",
       "      <td>신한서부티엔디리츠, 수요예측 경쟁률 564.83대1</td>\n",
       "      <td>0</td>\n",
       "    </tr>\n",
       "    <tr>\n",
       "      <th>4</th>\n",
       "      <td>센트럴인사이트, 10억원 유상증자…대운에너지 등에 3자 배정</td>\n",
       "      <td>0</td>\n",
       "    </tr>\n",
       "    <tr>\n",
       "      <th>...</th>\n",
       "      <td>...</td>\n",
       "      <td>...</td>\n",
       "    </tr>\n",
       "    <tr>\n",
       "      <th>19995</th>\n",
       "      <td>살까 팔까? 잡초엔 물 주지 말고 과감히 손절하세요</td>\n",
       "      <td>0</td>\n",
       "    </tr>\n",
       "    <tr>\n",
       "      <th>19996</th>\n",
       "      <td>SK바이오사이언스 상장 이틀째 10% 상승…'따상상' 어려울 듯</td>\n",
       "      <td>0</td>\n",
       "    </tr>\n",
       "    <tr>\n",
       "      <th>19997</th>\n",
       "      <td>[코스피] 3.00p(0.10%) 내린 3,063.01(개장)</td>\n",
       "      <td>0</td>\n",
       "    </tr>\n",
       "    <tr>\n",
       "      <th>19998</th>\n",
       "      <td>[코스닥] 3.22p(0.34%) 내린 946.61(개장)</td>\n",
       "      <td>0</td>\n",
       "    </tr>\n",
       "    <tr>\n",
       "      <th>19999</th>\n",
       "      <td>코스닥, 3.22p(0.34%) 내린 946.61 개장</td>\n",
       "      <td>0</td>\n",
       "    </tr>\n",
       "  </tbody>\n",
       "</table>\n",
       "<p>20000 rows × 2 columns</p>\n",
       "</div>"
      ],
      "text/plain": [
       "                                             title  label\n",
       "0           [레이더M] \"3년내 운용 자산 2조 규모 세계적 VC로 도약할 것＂      0\n",
       "1      샐바시온, '코빅실-V' 임상실험 완료…최종 분석 중, 결과 학술지 게재 예정      0\n",
       "2                삼성자산운용 메타버스 액티브 ETF 순자산 3000억원 돌파      0\n",
       "3                     신한서부티엔디리츠, 수요예측 경쟁률 564.83대1      0\n",
       "4                센트럴인사이트, 10억원 유상증자…대운에너지 등에 3자 배정      0\n",
       "...                                            ...    ...\n",
       "19995                 살까 팔까? 잡초엔 물 주지 말고 과감히 손절하세요      0\n",
       "19996          SK바이오사이언스 상장 이틀째 10% 상승…'따상상' 어려울 듯      0\n",
       "19997           [코스피] 3.00p(0.10%) 내린 3,063.01(개장)      0\n",
       "19998             [코스닥] 3.22p(0.34%) 내린 946.61(개장)      0\n",
       "19999               코스닥, 3.22p(0.34%) 내린 946.61 개장      0\n",
       "\n",
       "[20000 rows x 2 columns]"
      ]
     },
     "execution_count": 426,
     "metadata": {},
     "output_type": "execute_result"
    }
   ],
   "source": [
    "news_title = news_title.replace(['↑\\s*', '↓\\s*']  ,  ['상승' , '하락'], regex=True)\n",
    "news_title"
   ]
  },
  {
   "cell_type": "code",
   "execution_count": 427,
   "id": "c3bb429a",
   "metadata": {},
   "outputs": [],
   "source": [
    "# (df.index[df['B'] == 19].tolist())  데이터 전처리용 삭제할 index 추출 \n",
    "\n",
    "\n",
    "# idx2 = news_title.index[news_title['title'].str.contains('[부고]')]\n",
    "# news_title = news_title.drop(idx2)\n",
    "\n",
    "# idx3 = news_title.index[news_title['title'].str.contains('[게시판]')]\n",
    "# news_title = news_title.drop(idx3)\n",
    "\n",
    "# idx4 = news_title.index[news_title['title'].str.contains('[증시신상품]')]\n",
    "# news_title = news_title.drop(idx4)\n",
    "\n",
    "# idx5 = news_title.index[news_title['title'].str.contains('[유가증권시장 공시]')]\n",
    "# news_title = news_title.drop(idx5)\n",
    "\n",
    "# idx6 = news_title.index[news_title['title'].str.contains('[인사]')]\n",
    "# news_title = news_title.drop(idx6)\n",
    "\n",
    "# idx7 = news_title.index[news_title['title'].str.contains('[M&A 매물장터]')]\n",
    "# news_title = news_title.drop(idx7)\n",
    "\n",
    "# idx8 = news_title.index[news_title['title'].str.contains('[포토]')]\n",
    "# news_title = news_title.drop(idx8)\n",
    "\n",
    "# idx9 = news_title.index[news_title['title'].str.contains('[증시신상품]')]\n",
    "# news_title = news_title.drop(idx9)\n",
    "\n",
    "# idx10 = news_title.index[news_title['title'].str.contains('[공모주 인사이드]')]\n",
    "# news_title = news_title.drop(idx10)\n",
    "\n",
    "# idx11 = news_title.index[news_title['title'].str.contains('[장마감 이슈]')]\n",
    "# news_title = news_title.drop(idx11)\n",
    "\n",
    "# idx12 = news_title.index[news_title['title'].str.contains('[AI 개장전 분석]')]\n",
    "# news_title = news_title.drop(idx12)\n",
    "\n"
   ]
  },
  {
   "cell_type": "code",
   "execution_count": 428,
   "id": "9e57c9f9",
   "metadata": {},
   "outputs": [],
   "source": [
    "idx0 = news_title.index[(news_title['title'].str.contains('아이넷')) | (news_title['title'].str.contains(r'[[표]]') )]\n",
    "news_title = news_title.drop(idx0)"
   ]
  },
  {
   "cell_type": "code",
   "execution_count": 429,
   "id": "bf59ac1e",
   "metadata": {},
   "outputs": [],
   "source": [
    "idx2 = news_title.index[news_title['title'].str.contains(r'[[부고]]')]\n",
    "news_title = news_title.drop(idx2)"
   ]
  },
  {
   "cell_type": "code",
   "execution_count": 430,
   "id": "c41179bc",
   "metadata": {},
   "outputs": [],
   "source": [
    "idx3 = news_title.index[news_title['title'].str.contains(r'[[게시판]]')]\n",
    "news_title = news_title.drop(idx3)"
   ]
  },
  {
   "cell_type": "code",
   "execution_count": 431,
   "id": "ec6a40d4",
   "metadata": {},
   "outputs": [],
   "source": [
    "idx4 = news_title.index[news_title['title'].str.contains(r'[[증시신상품]]')]\n",
    "news_title = news_title.drop(idx4)"
   ]
  },
  {
   "cell_type": "code",
   "execution_count": 432,
   "id": "496fce52",
   "metadata": {},
   "outputs": [],
   "source": [
    "idx5 = news_title.index[news_title['title'].str.contains(r'[[유가증권시장 공시]]')]\n",
    "news_title = news_title.drop(idx5)"
   ]
  },
  {
   "cell_type": "code",
   "execution_count": 433,
   "id": "98fc164a",
   "metadata": {},
   "outputs": [],
   "source": [
    "idx6 = news_title.index[news_title['title'].str.contains(r'[[인사]]')]\n",
    "news_title = news_title.drop(idx6)\n"
   ]
  },
  {
   "cell_type": "code",
   "execution_count": 434,
   "id": "0d4175d7",
   "metadata": {},
   "outputs": [],
   "source": [
    "idx7 = news_title.index[news_title['title'].str.contains(r'[[M&A 매물장터]]')]\n",
    "news_title = news_title.drop(idx7)"
   ]
  },
  {
   "cell_type": "code",
   "execution_count": 435,
   "id": "cc0c7f12",
   "metadata": {},
   "outputs": [],
   "source": [
    "idx8 = news_title.index[news_title['title'].str.contains(r'[[포토]]')]\n",
    "news_title = news_title.drop(idx8)"
   ]
  },
  {
   "cell_type": "code",
   "execution_count": 436,
   "id": "911216a0",
   "metadata": {},
   "outputs": [],
   "source": [
    "idx9 = news_title.index[news_title['title'].str.contains(r'[[증시신상품]]')]\n",
    "news_title = news_title.drop(idx9)"
   ]
  },
  {
   "cell_type": "code",
   "execution_count": 437,
   "id": "4d7b71e2",
   "metadata": {},
   "outputs": [],
   "source": [
    "idx10 = news_title.index[news_title['title'].str.contains(r'[[공모주 인사이드]]')]\n",
    "news_title = news_title.drop(idx10)"
   ]
  },
  {
   "cell_type": "code",
   "execution_count": 438,
   "id": "3d627156",
   "metadata": {},
   "outputs": [],
   "source": [
    "idx11 = news_title.index[news_title['title'].str.contains(r'[[장마감 이슈]]')]\n",
    "news_title = news_title.drop(idx11)"
   ]
  },
  {
   "cell_type": "code",
   "execution_count": 439,
   "id": "9b37e232",
   "metadata": {},
   "outputs": [],
   "source": [
    "idx12 = news_title.index[news_title['title'].str.contains(r'[[AI 개장전 분석]]')]\n",
    "news_title = news_title.drop(idx12)"
   ]
  },
  {
   "cell_type": "code",
   "execution_count": 440,
   "id": "58b0cea1",
   "metadata": {},
   "outputs": [],
   "source": [
    "idx13 = news_title.index[(news_title['title'].str.contains('오늘의')) | (news_title['title'].str.contains('이 상품'))]\n",
    "news_title = news_title.drop(idx13)"
   ]
  },
  {
   "cell_type": "code",
   "execution_count": 441,
   "id": "b691d14a",
   "metadata": {},
   "outputs": [],
   "source": [
    "# 라벨 사전처리 작업 (상승, 오른 , 흑자 , 최대 실적  , 최대실적 , 순매수 , 매수 , 고성장 , 반등 , 기대 , 증가 )\n",
    "\n",
    "# 폭락, 기대이하 감소 "
   ]
  },
  {
   "cell_type": "code",
   "execution_count": 442,
   "id": "b237fa12",
   "metadata": {},
   "outputs": [],
   "source": [
    "up_stock_word = news_title.index[(news_title['title'].str.contains('상승')) | (news_title['title'].str.contains('오른'))| (news_title['title'].str.contains('흑자'))\n",
    "                        | (news_title['title'].str.contains('최대실적'))| (news_title['title'].str.contains('최대 실적'))| (news_title['title'].str.contains('순매수'))\n",
    "                        | (news_title['title'].str.contains('매수'))| (news_title['title'].str.contains('고성장'))| (news_title['title'].str.contains('반등'))| (news_title['title'].str.contains('기대'))\n",
    "                        | (news_title['title'].str.contains('증가'))\n",
    "                        | (news_title['title'].str.contains('상향'))].values\n",
    "\n",
    "\n"
   ]
  },
  {
   "cell_type": "code",
   "execution_count": 443,
   "id": "de89de93",
   "metadata": {},
   "outputs": [
    {
     "name": "stderr",
     "output_type": "stream",
     "text": [
      "C:\\Users\\crid2\\AppData\\Local\\Temp\\ipykernel_25556\\505068254.py:2: SettingWithCopyWarning: \n",
      "A value is trying to be set on a copy of a slice from a DataFrame\n",
      "\n",
      "See the caveats in the documentation: https://pandas.pydata.org/pandas-docs/stable/user_guide/indexing.html#returning-a-view-versus-a-copy\n",
      "  news_title['label'][i] = 1\n"
     ]
    }
   ],
   "source": [
    "for i in up_stock_word : \n",
    "    news_title['label'][i] = 1 \n",
    "    \n"
   ]
  },
  {
   "cell_type": "code",
   "execution_count": 444,
   "id": "fac8675d",
   "metadata": {},
   "outputs": [
    {
     "data": {
      "text/html": [
       "<div>\n",
       "<style scoped>\n",
       "    .dataframe tbody tr th:only-of-type {\n",
       "        vertical-align: middle;\n",
       "    }\n",
       "\n",
       "    .dataframe tbody tr th {\n",
       "        vertical-align: top;\n",
       "    }\n",
       "\n",
       "    .dataframe thead th {\n",
       "        text-align: right;\n",
       "    }\n",
       "</style>\n",
       "<table border=\"1\" class=\"dataframe\">\n",
       "  <thead>\n",
       "    <tr style=\"text-align: right;\">\n",
       "      <th></th>\n",
       "      <th>title</th>\n",
       "      <th>label</th>\n",
       "    </tr>\n",
       "  </thead>\n",
       "  <tbody>\n",
       "    <tr>\n",
       "      <th>1</th>\n",
       "      <td>샐바시온, '코빅실-V' 임상실험 완료…최종 분석 중, 결과 학술지 게재 예정</td>\n",
       "      <td>0</td>\n",
       "    </tr>\n",
       "    <tr>\n",
       "      <th>2</th>\n",
       "      <td>삼성자산운용 메타버스 액티브 ETF 순자산 3000억원 돌파</td>\n",
       "      <td>0</td>\n",
       "    </tr>\n",
       "    <tr>\n",
       "      <th>3</th>\n",
       "      <td>신한서부티엔디리츠, 수요예측 경쟁률 564.83대1</td>\n",
       "      <td>0</td>\n",
       "    </tr>\n",
       "    <tr>\n",
       "      <th>4</th>\n",
       "      <td>센트럴인사이트, 10억원 유상증자…대운에너지 등에 3자 배정</td>\n",
       "      <td>0</td>\n",
       "    </tr>\n",
       "    <tr>\n",
       "      <th>5</th>\n",
       "      <td>삼천피 복귀한 날 '이것' 2400억원 어치 담은 개미들</td>\n",
       "      <td>0</td>\n",
       "    </tr>\n",
       "    <tr>\n",
       "      <th>...</th>\n",
       "      <td>...</td>\n",
       "      <td>...</td>\n",
       "    </tr>\n",
       "    <tr>\n",
       "      <th>19995</th>\n",
       "      <td>살까 팔까? 잡초엔 물 주지 말고 과감히 손절하세요</td>\n",
       "      <td>0</td>\n",
       "    </tr>\n",
       "    <tr>\n",
       "      <th>19996</th>\n",
       "      <td>SK바이오사이언스 상장 이틀째 10% 상승…'따상상' 어려울 듯</td>\n",
       "      <td>1</td>\n",
       "    </tr>\n",
       "    <tr>\n",
       "      <th>19997</th>\n",
       "      <td>[코스피] 3.00p(0.10%) 내린 3,063.01(개장)</td>\n",
       "      <td>0</td>\n",
       "    </tr>\n",
       "    <tr>\n",
       "      <th>19998</th>\n",
       "      <td>[코스닥] 3.22p(0.34%) 내린 946.61(개장)</td>\n",
       "      <td>0</td>\n",
       "    </tr>\n",
       "    <tr>\n",
       "      <th>19999</th>\n",
       "      <td>코스닥, 3.22p(0.34%) 내린 946.61 개장</td>\n",
       "      <td>0</td>\n",
       "    </tr>\n",
       "  </tbody>\n",
       "</table>\n",
       "<p>8464 rows × 2 columns</p>\n",
       "</div>"
      ],
      "text/plain": [
       "                                             title  label\n",
       "1      샐바시온, '코빅실-V' 임상실험 완료…최종 분석 중, 결과 학술지 게재 예정      0\n",
       "2                삼성자산운용 메타버스 액티브 ETF 순자산 3000억원 돌파      0\n",
       "3                     신한서부티엔디리츠, 수요예측 경쟁률 564.83대1      0\n",
       "4                센트럴인사이트, 10억원 유상증자…대운에너지 등에 3자 배정      0\n",
       "5                  삼천피 복귀한 날 '이것' 2400억원 어치 담은 개미들      0\n",
       "...                                            ...    ...\n",
       "19995                 살까 팔까? 잡초엔 물 주지 말고 과감히 손절하세요      0\n",
       "19996          SK바이오사이언스 상장 이틀째 10% 상승…'따상상' 어려울 듯      1\n",
       "19997           [코스피] 3.00p(0.10%) 내린 3,063.01(개장)      0\n",
       "19998             [코스닥] 3.22p(0.34%) 내린 946.61(개장)      0\n",
       "19999               코스닥, 3.22p(0.34%) 내린 946.61 개장      0\n",
       "\n",
       "[8464 rows x 2 columns]"
      ]
     },
     "execution_count": 444,
     "metadata": {},
     "output_type": "execute_result"
    }
   ],
   "source": [
    "news_title"
   ]
  },
  {
   "cell_type": "code",
   "execution_count": 445,
   "id": "a5cb7577",
   "metadata": {},
   "outputs": [],
   "source": [
    "news_title = news_title.reset_index(drop=True)\n"
   ]
  },
  {
   "cell_type": "code",
   "execution_count": 446,
   "id": "39074f7c",
   "metadata": {},
   "outputs": [],
   "source": [
    "news_title.to_csv('test01.csv')"
   ]
  },
  {
   "cell_type": "code",
   "execution_count": null,
   "id": "056b21fe",
   "metadata": {},
   "outputs": [],
   "source": []
  },
  {
   "cell_type": "code",
   "execution_count": null,
   "id": "a2e9e2dc",
   "metadata": {},
   "outputs": [],
   "source": []
  },
  {
   "cell_type": "code",
   "execution_count": null,
   "id": "b03761b8",
   "metadata": {},
   "outputs": [],
   "source": []
  },
  {
   "cell_type": "code",
   "execution_count": null,
   "id": "91b88bf2",
   "metadata": {},
   "outputs": [],
   "source": []
  },
  {
   "cell_type": "code",
   "execution_count": null,
   "id": "87160212",
   "metadata": {},
   "outputs": [],
   "source": []
  },
  {
   "cell_type": "code",
   "execution_count": null,
   "id": "5e064b08",
   "metadata": {},
   "outputs": [],
   "source": []
  },
  {
   "cell_type": "code",
   "execution_count": null,
   "id": "e3c0dc2a",
   "metadata": {},
   "outputs": [],
   "source": []
  },
  {
   "cell_type": "code",
   "execution_count": null,
   "id": "7948db64",
   "metadata": {},
   "outputs": [],
   "source": []
  }
 ],
 "metadata": {
  "kernelspec": {
   "display_name": "tensor01",
   "language": "python",
   "name": "tensor01"
  },
  "language_info": {
   "codemirror_mode": {
    "name": "ipython",
    "version": 3
   },
   "file_extension": ".py",
   "mimetype": "text/x-python",
   "name": "python",
   "nbconvert_exporter": "python",
   "pygments_lexer": "ipython3",
   "version": "3.9.7"
  },
  "varInspector": {
   "cols": {
    "lenName": 16,
    "lenType": 16,
    "lenVar": 40
   },
   "kernels_config": {
    "python": {
     "delete_cmd_postfix": "",
     "delete_cmd_prefix": "del ",
     "library": "var_list.py",
     "varRefreshCmd": "print(var_dic_list())"
    },
    "r": {
     "delete_cmd_postfix": ") ",
     "delete_cmd_prefix": "rm(",
     "library": "var_list.r",
     "varRefreshCmd": "cat(var_dic_list()) "
    }
   },
   "types_to_exclude": [
    "module",
    "function",
    "builtin_function_or_method",
    "instance",
    "_Feature"
   ],
   "window_display": false
  }
 },
 "nbformat": 4,
 "nbformat_minor": 5
}
