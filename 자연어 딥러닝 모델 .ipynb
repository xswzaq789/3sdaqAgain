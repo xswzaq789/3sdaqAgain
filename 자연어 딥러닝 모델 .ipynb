{
 "cells": [
  {
   "cell_type": "markdown",
   "id": "a32e4ead",
   "metadata": {},
   "source": [
    "##### 필요 라이브러리\n",
    "\n",
    " - java 1.7 이상필요(SQL 수업시 이미 설치완료됨 ) \n",
    " - pip install tensorflow 텐서플로우 \n",
    " - pip install gensim 젠심 \n",
    " - pip install scikit-learn \n",
    " - pip install jupyter notebook\n",
    " - pip install nltk \n",
    "    -> python 접속 후 \n",
    "     - import nltk  \n",
    "     - nltk.download() \n",
    "    : 약 1기가정도 데이터 다운로드 화면 나옴 \n",
    "\n",
    " - pip install kss (한국어 문장토큰화)\n",
    "\n",
    "\n",
    "- pip install konlpy\n",
    "  - 형태소 분석기\n",
    "     - from konlpy.tag import Okt\n",
    "     - from konlpy.tag import Kkma\n",
    "\n",
    "     - okt = Okt() \n",
    "     - kkma = Kkma()\n",
    "\n",
    "    ** mecab 형태소 분석기가 성능 및 처리속도에서 최고이나 설치하기 난해함 "
   ]
  },
  {
   "cell_type": "code",
   "execution_count": 1,
   "id": "8d867bf0",
   "metadata": {},
   "outputs": [
    {
     "ename": "ModuleNotFoundError",
     "evalue": "No module named 'konlpy'",
     "output_type": "error",
     "traceback": [
      "\u001b[1;31m---------------------------------------------------------------------------\u001b[0m",
      "\u001b[1;31mModuleNotFoundError\u001b[0m                       Traceback (most recent call last)",
      "Input \u001b[1;32mIn [1]\u001b[0m, in \u001b[0;36m<cell line: 7>\u001b[1;34m()\u001b[0m\n\u001b[0;32m      5\u001b[0m \u001b[38;5;28;01mimport\u001b[39;00m \u001b[38;5;21;01murllib\u001b[39;00m\u001b[38;5;21;01m.\u001b[39;00m\u001b[38;5;21;01mrequest\u001b[39;00m\n\u001b[0;32m      6\u001b[0m \u001b[38;5;28;01mfrom\u001b[39;00m \u001b[38;5;21;01mcollections\u001b[39;00m \u001b[38;5;28;01mimport\u001b[39;00m Counter \n\u001b[1;32m----> 7\u001b[0m \u001b[38;5;28;01mfrom\u001b[39;00m \u001b[38;5;21;01mkonlpy\u001b[39;00m\u001b[38;5;21;01m.\u001b[39;00m\u001b[38;5;21;01mtag\u001b[39;00m \u001b[38;5;28;01mimport\u001b[39;00m Okt\n\u001b[0;32m      8\u001b[0m \u001b[38;5;28;01mfrom\u001b[39;00m \u001b[38;5;21;01msklearn\u001b[39;00m\u001b[38;5;21;01m.\u001b[39;00m\u001b[38;5;21;01mmodel_selection\u001b[39;00m \u001b[38;5;28;01mimport\u001b[39;00m train_test_split\n",
      "\u001b[1;31mModuleNotFoundError\u001b[0m: No module named 'konlpy'"
     ]
    }
   ],
   "source": [
    "import re\n",
    "import pandas as pd\n",
    "import numpy as np\n",
    "import matplotlib.pyplot as plt\n",
    "import urllib.request\n",
    "from collections import Counter \n",
    "from konlpy.tag import Okt\n",
    "from sklearn.model_selection import train_test_split\n"
   ]
  },
  {
   "cell_type": "code",
   "execution_count": null,
   "id": "d8a8616a",
   "metadata": {},
   "outputs": [],
   "source": [
    "from tensorflow.keras.preprocessing.text import Tokenizer\n",
    "from tensorflow.keras.preprocessing.sequence import pad_sequences"
   ]
  },
  {
   "cell_type": "code",
   "execution_count": null,
   "id": "1cbf63ed",
   "metadata": {},
   "outputs": [],
   "source": [
    "# 네이버 상품 리뷰 데이터\n",
    "urllib.request.urlretrieve(\"https://raw.githubusercontent.com/bab2min/corpus/master/sentiment/naver_shopping.txt\", filename=\"ratings_total.txt\")"
   ]
  },
  {
   "cell_type": "code",
   "execution_count": null,
   "id": "350fcc74",
   "metadata": {},
   "outputs": [],
   "source": [
    "total_data = pd.read_table('ratings_total.txt', names=['ratings' , 'reviews'])\n",
    "print('전체리뷰갯수 : ' , len(total_data))"
   ]
  },
  {
   "cell_type": "code",
   "execution_count": 2,
   "id": "f9e0fbb7",
   "metadata": {},
   "outputs": [
    {
     "ename": "NameError",
     "evalue": "name 'total_data' is not defined",
     "output_type": "error",
     "traceback": [
      "\u001b[1;31m---------------------------------------------------------------------------\u001b[0m",
      "\u001b[1;31mNameError\u001b[0m                                 Traceback (most recent call last)",
      "Input \u001b[1;32mIn [2]\u001b[0m, in \u001b[0;36m<cell line: 1>\u001b[1;34m()\u001b[0m\n\u001b[1;32m----> 1\u001b[0m \u001b[43mtotal_data\u001b[49m[:\u001b[38;5;241m5\u001b[39m]\n",
      "\u001b[1;31mNameError\u001b[0m: name 'total_data' is not defined"
     ]
    }
   ],
   "source": [
    "total_data[:5]"
   ]
  },
  {
   "cell_type": "code",
   "execution_count": 11,
   "id": "6b6b8359",
   "metadata": {},
   "outputs": [
    {
     "data": {
      "text/html": [
       "<div>\n",
       "<style scoped>\n",
       "    .dataframe tbody tr th:only-of-type {\n",
       "        vertical-align: middle;\n",
       "    }\n",
       "\n",
       "    .dataframe tbody tr th {\n",
       "        vertical-align: top;\n",
       "    }\n",
       "\n",
       "    .dataframe thead th {\n",
       "        text-align: right;\n",
       "    }\n",
       "</style>\n",
       "<table border=\"1\" class=\"dataframe\">\n",
       "  <thead>\n",
       "    <tr style=\"text-align: right;\">\n",
       "      <th></th>\n",
       "      <th>ratings</th>\n",
       "      <th>reviews</th>\n",
       "      <th>label</th>\n",
       "    </tr>\n",
       "  </thead>\n",
       "  <tbody>\n",
       "    <tr>\n",
       "      <th>0</th>\n",
       "      <td>5</td>\n",
       "      <td>배공빠르고 굿</td>\n",
       "      <td>1</td>\n",
       "    </tr>\n",
       "    <tr>\n",
       "      <th>1</th>\n",
       "      <td>2</td>\n",
       "      <td>택배가 엉망이네용 저희집 밑에층에 말도없이 놔두고가고</td>\n",
       "      <td>0</td>\n",
       "    </tr>\n",
       "    <tr>\n",
       "      <th>2</th>\n",
       "      <td>5</td>\n",
       "      <td>아주좋아요 바지 정말 좋아서2개 더 구매했어요 이가격에 대박입니다. 바느질이 조금 ...</td>\n",
       "      <td>1</td>\n",
       "    </tr>\n",
       "    <tr>\n",
       "      <th>3</th>\n",
       "      <td>2</td>\n",
       "      <td>선물용으로 빨리 받아서 전달했어야 하는 상품이었는데 머그컵만 와서 당황했습니다. 전...</td>\n",
       "      <td>0</td>\n",
       "    </tr>\n",
       "    <tr>\n",
       "      <th>4</th>\n",
       "      <td>5</td>\n",
       "      <td>민트색상 예뻐요. 옆 손잡이는 거는 용도로도 사용되네요 ㅎㅎ</td>\n",
       "      <td>1</td>\n",
       "    </tr>\n",
       "    <tr>\n",
       "      <th>...</th>\n",
       "      <td>...</td>\n",
       "      <td>...</td>\n",
       "      <td>...</td>\n",
       "    </tr>\n",
       "    <tr>\n",
       "      <th>199995</th>\n",
       "      <td>2</td>\n",
       "      <td>장마라그런가!!! 달지않아요</td>\n",
       "      <td>0</td>\n",
       "    </tr>\n",
       "    <tr>\n",
       "      <th>199996</th>\n",
       "      <td>5</td>\n",
       "      <td>다이슨 케이스 구매했어요 다이슨 슈퍼소닉 드라이기 케이스 구매했어요가격 괜찮고 배송...</td>\n",
       "      <td>1</td>\n",
       "    </tr>\n",
       "    <tr>\n",
       "      <th>199997</th>\n",
       "      <td>5</td>\n",
       "      <td>로드샾에서 사는것보다 세배 저렴하네요 ㅜㅜ 자주이용할께요</td>\n",
       "      <td>1</td>\n",
       "    </tr>\n",
       "    <tr>\n",
       "      <th>199998</th>\n",
       "      <td>5</td>\n",
       "      <td>넘이쁘고 쎄련되보이네요~</td>\n",
       "      <td>1</td>\n",
       "    </tr>\n",
       "    <tr>\n",
       "      <th>199999</th>\n",
       "      <td>5</td>\n",
       "      <td>아직 사용해보지도않았고 다른 제품을 써본적이없어서 잘 모르겠지만 ㅎㅎ 배송은 빨랐습니다</td>\n",
       "      <td>1</td>\n",
       "    </tr>\n",
       "  </tbody>\n",
       "</table>\n",
       "<p>200000 rows × 3 columns</p>\n",
       "</div>"
      ],
      "text/plain": [
       "        ratings                                            reviews  label\n",
       "0             5                                            배공빠르고 굿      1\n",
       "1             2                      택배가 엉망이네용 저희집 밑에층에 말도없이 놔두고가고      0\n",
       "2             5  아주좋아요 바지 정말 좋아서2개 더 구매했어요 이가격에 대박입니다. 바느질이 조금 ...      1\n",
       "3             2  선물용으로 빨리 받아서 전달했어야 하는 상품이었는데 머그컵만 와서 당황했습니다. 전...      0\n",
       "4             5                  민트색상 예뻐요. 옆 손잡이는 거는 용도로도 사용되네요 ㅎㅎ      1\n",
       "...         ...                                                ...    ...\n",
       "199995        2                                    장마라그런가!!! 달지않아요      0\n",
       "199996        5  다이슨 케이스 구매했어요 다이슨 슈퍼소닉 드라이기 케이스 구매했어요가격 괜찮고 배송...      1\n",
       "199997        5                    로드샾에서 사는것보다 세배 저렴하네요 ㅜㅜ 자주이용할께요      1\n",
       "199998        5                                      넘이쁘고 쎄련되보이네요~      1\n",
       "199999        5   아직 사용해보지도않았고 다른 제품을 써본적이없어서 잘 모르겠지만 ㅎㅎ 배송은 빨랐습니다      1\n",
       "\n",
       "[200000 rows x 3 columns]"
      ]
     },
     "execution_count": 11,
     "metadata": {},
     "output_type": "execute_result"
    }
   ],
   "source": [
    "total_data['label'] = np.select([total_data.ratings > 3 ] ,  [1] , default = 0 ) \n",
    "total_data"
   ]
  },
  {
   "cell_type": "code",
   "execution_count": 12,
   "id": "4c2e43c3",
   "metadata": {},
   "outputs": [
    {
     "data": {
      "text/plain": [
       "(4, 199908, 2)"
      ]
     },
     "execution_count": 12,
     "metadata": {},
     "output_type": "execute_result"
    }
   ],
   "source": [
    "total_data['ratings'].nunique(), total_data['reviews'].nunique(), total_data['label'].nunique()"
   ]
  },
  {
   "cell_type": "code",
   "execution_count": 13,
   "id": "15bb2985",
   "metadata": {},
   "outputs": [
    {
     "name": "stdout",
     "output_type": "stream",
     "text": [
      "총 샘플의 수  :  199908\n"
     ]
    }
   ],
   "source": [
    "total_data.drop_duplicates(subset=['reviews'], inplace = True )\n",
    "print('총 샘플의 수  : ' , len(total_data))\n",
    "\n",
    " # reviews 열에서 중복인 내용이 있다면 중복 제거"
   ]
  },
  {
   "cell_type": "code",
   "execution_count": 14,
   "id": "0038d0ba",
   "metadata": {},
   "outputs": [
    {
     "name": "stdout",
     "output_type": "stream",
     "text": [
      "False\n"
     ]
    }
   ],
   "source": [
    "print(total_data.isnull().values.any())"
   ]
  },
  {
   "cell_type": "code",
   "execution_count": 15,
   "id": "78b70e2e",
   "metadata": {},
   "outputs": [
    {
     "name": "stdout",
     "output_type": "stream",
     "text": [
      "훈련용 리뷰의 개수 :  149931\n",
      "테스트용 리뷰의 개수 :  49977\n"
     ]
    }
   ],
   "source": [
    "train_data, test_data = train_test_split(total_data, test_size= 0.25 , random_state = 42 )\n",
    "print( '훈련용 리뷰의 개수 : ' , len(train_data))\n",
    "print('테스트용 리뷰의 개수 : ' , len(test_data))"
   ]
  },
  {
   "cell_type": "code",
   "execution_count": 16,
   "id": "47f256ed",
   "metadata": {},
   "outputs": [
    {
     "data": {
      "text/plain": [
       "<AxesSubplot:>"
      ]
     },
     "execution_count": 16,
     "metadata": {},
     "output_type": "execute_result"
    },
    {
     "data": {
      "image/png": "[encoded data removed]",
      "text/plain": [
       "<Figure size 432x288 with 1 Axes>"
      ]
     },
     "metadata": {
      "needs_background": "light"
     },
     "output_type": "display_data"
    }
   ],
   "source": [
    "# 부정리뷰 감정리뷰 데이터셋이 고르게 분포함을 확인 \n",
    "train_data['label'].value_counts().plot(kind = 'bar')\n"
   ]
  },
  {
   "cell_type": "code",
   "execution_count": 17,
   "id": "39db94c3",
   "metadata": {},
   "outputs": [],
   "source": [
    "# 데이터 정제 정규식 한글제외한 나머지 모두 제거 "
   ]
  },
  {
   "cell_type": "code",
   "execution_count": 18,
   "id": "2790616f",
   "metadata": {},
   "outputs": [
    {
     "name": "stderr",
     "output_type": "stream",
     "text": [
      "C:\\Users\\crid2\\AppData\\Local\\Temp\\ipykernel_9696\\492259256.py:1: FutureWarning: The default value of regex will change from True to False in a future version.\n",
      "  train_data['reviews'] = train_data['reviews'].str.replace(\"[^ㄱ-하-ㅣ가-힣]\", \"\")\n"
     ]
    }
   ],
   "source": [
    "train_data['reviews'] = train_data['reviews'].str.replace(\"[^ㄱ-하-ㅣ가-힣]\", \"\")"
   ]
  },
  {
   "cell_type": "code",
   "execution_count": 19,
   "id": "140a1a3d",
   "metadata": {},
   "outputs": [
    {
     "name": "stdout",
     "output_type": "stream",
     "text": [
      "ratings    0\n",
      "reviews    0\n",
      "label      0\n",
      "dtype: int64\n"
     ]
    }
   ],
   "source": [
    "train_data['reviews'].replace('', np.nan , inplace=True)\n",
    "print(train_data.isnull().sum())"
   ]
  },
  {
   "cell_type": "code",
   "execution_count": 20,
   "id": "47a0fa9c",
   "metadata": {},
   "outputs": [
    {
     "name": "stdout",
     "output_type": "stream",
     "text": [
      "전처리 후 테스트용 샘플의 개수 : 49977\n"
     ]
    },
    {
     "name": "stderr",
     "output_type": "stream",
     "text": [
      "C:\\Users\\crid2\\AppData\\Local\\Temp\\ipykernel_9696\\2390753744.py:2: FutureWarning: The default value of regex will change from True to False in a future version.\n",
      "  test_data['reviews'] = test_data['reviews'].str.replace(\"[^ㄱ-ㅎㅏ-ㅣ가-힣 ]\",\"\") # 정규 표현식 수행\n"
     ]
    }
   ],
   "source": [
    "test_data.drop_duplicates(subset = ['reviews'], inplace=True) # 중복 제거\n",
    "test_data['reviews'] = test_data['reviews'].str.replace(\"[^ㄱ-ㅎㅏ-ㅣ가-힣 ]\",\"\") # 정규 표현식 수행\n",
    "test_data['reviews'].replace('', np.nan, inplace=True) # 공백은 Null 값으로 변경\n",
    "test_data = test_data.dropna(how='any') # Null 값 제거\n",
    "print('전처리 후 테스트용 샘플의 개수 :',len(test_data))\n",
    "\n",
    "\n"
   ]
  },
  {
   "cell_type": "code",
   "execution_count": 21,
   "id": "3945434e",
   "metadata": {},
   "outputs": [],
   "source": [
    "sample_train = train_data[0:5000]\n",
    "sample_test = test_data[0:1000]"
   ]
  },
  {
   "cell_type": "code",
   "execution_count": 38,
   "id": "2f879755",
   "metadata": {},
   "outputs": [],
   "source": [
    "### 토큰화"
   ]
  },
  {
   "cell_type": "code",
   "execution_count": 39,
   "id": "ea1ffe8f",
   "metadata": {},
   "outputs": [],
   "source": [
    "# 형태소 처리 라이브러리 정의 \n",
    "okt =  Okt()\n"
   ]
  },
  {
   "cell_type": "code",
   "execution_count": 40,
   "id": "a902b605",
   "metadata": {},
   "outputs": [
    {
     "name": "stdout",
     "output_type": "stream",
     "text": [
      "['와', '이런', '것', '도', '상품', '이라고', '하냐', '차라리', '내', '가', '붕어빵', '을', '만든는것이', '훨씬', '낫겠네', '!!!']\n"
     ]
    }
   ],
   "source": [
    "print(okt.morphs('와 이런것도 상품이라고 하냐 차라리 내가 붕어빵을 만든는것이 훨씬 낫겠네!!!'))"
   ]
  },
  {
   "cell_type": "code",
   "execution_count": 41,
   "id": "772d8a0c",
   "metadata": {},
   "outputs": [],
   "source": [
    "# 불용어 : 추가시 리스트에 추가\n",
    "stopwords = ['도', '는', '다', '의', '가', '이', '은', '한', '에', '하', '고', '을', '를', '인', '듯', '과', '와', '네', '들', '듯', '지', '임', '게']"
   ]
  },
  {
   "cell_type": "code",
   "execution_count": 42,
   "id": "b60f6c66",
   "metadata": {},
   "outputs": [
    {
     "name": "stderr",
     "output_type": "stream",
     "text": [
      "C:\\Users\\crid2\\AppData\\Local\\Temp\\ipykernel_9696\\4293915352.py:1: SettingWithCopyWarning: \n",
      "A value is trying to be set on a copy of a slice from a DataFrame.\n",
      "Try using .loc[row_indexer,col_indexer] = value instead\n",
      "\n",
      "See the caveats in the documentation: https://pandas.pydata.org/pandas-docs/stable/user_guide/indexing.html#returning-a-view-versus-a-copy\n",
      "  sample_train['tokenized'] = sample_train['reviews'].apply(okt.morphs)\n",
      "C:\\Users\\crid2\\AppData\\Local\\Temp\\ipykernel_9696\\4293915352.py:2: SettingWithCopyWarning: \n",
      "A value is trying to be set on a copy of a slice from a DataFrame.\n",
      "Try using .loc[row_indexer,col_indexer] = value instead\n",
      "\n",
      "See the caveats in the documentation: https://pandas.pydata.org/pandas-docs/stable/user_guide/indexing.html#returning-a-view-versus-a-copy\n",
      "  sample_train['tokenized'] = sample_train['tokenized'].apply(lambda x: [item for item in x if item not in stopwords])\n"
     ]
    }
   ],
   "source": [
    "sample_train['tokenized'] = sample_train['reviews'].apply(okt.morphs)\n",
    "sample_train['tokenized'] = sample_train['tokenized'].apply(lambda x: [item for item in x if item not in stopwords])"
   ]
  },
  {
   "cell_type": "code",
   "execution_count": 43,
   "id": "3ea4e2c0",
   "metadata": {},
   "outputs": [
    {
     "name": "stderr",
     "output_type": "stream",
     "text": [
      "C:\\Users\\crid2\\AppData\\Local\\Temp\\ipykernel_9696\\313664598.py:1: SettingWithCopyWarning: \n",
      "A value is trying to be set on a copy of a slice from a DataFrame.\n",
      "Try using .loc[row_indexer,col_indexer] = value instead\n",
      "\n",
      "See the caveats in the documentation: https://pandas.pydata.org/pandas-docs/stable/user_guide/indexing.html#returning-a-view-versus-a-copy\n",
      "  sample_test['tokenized'] = sample_test['reviews'].apply(okt.morphs)\n",
      "C:\\Users\\crid2\\AppData\\Local\\Temp\\ipykernel_9696\\313664598.py:2: SettingWithCopyWarning: \n",
      "A value is trying to be set on a copy of a slice from a DataFrame.\n",
      "Try using .loc[row_indexer,col_indexer] = value instead\n",
      "\n",
      "See the caveats in the documentation: https://pandas.pydata.org/pandas-docs/stable/user_guide/indexing.html#returning-a-view-versus-a-copy\n",
      "  sample_test['tokenized'] = sample_test['tokenized'].apply(lambda x: [item for item in x if item not in stopwords])\n"
     ]
    }
   ],
   "source": [
    "sample_test['tokenized'] = sample_test['reviews'].apply(okt.morphs)\n",
    "sample_test['tokenized'] = sample_test['tokenized'].apply(lambda x: [item for item in x if item not in stopwords])"
   ]
  },
  {
   "cell_type": "code",
   "execution_count": 44,
   "id": "3d8e86ab",
   "metadata": {},
   "outputs": [],
   "source": [
    "## 전체데이터 렉걸려서 처리 안됨 아니면 최소 2시간이상 시간 소요추정\n",
    "\n",
    "# train_data['tokenized'] = train_data['reviews'].apply(okt.morphs)\n",
    "# train_data['tokenized'] = train_data['tokenized'].apply(lambda x: [item for item in x if item not in stopwords])"
   ]
  },
  {
   "cell_type": "code",
   "execution_count": 45,
   "id": "301a6b3d",
   "metadata": {},
   "outputs": [],
   "source": [
    "# test_data['tokenized'] = test_data['reviews'].apply(okt.morphs)\n",
    "# test_data['tokenized'] = test_data['tokenized'].apply(lambda x: [item for item in x if item not in stopwords])"
   ]
  },
  {
   "cell_type": "code",
   "execution_count": 46,
   "id": "0039cc7d",
   "metadata": {},
   "outputs": [],
   "source": [
    "# 단어 길이 및 분포 확인하기 "
   ]
  },
  {
   "cell_type": "code",
   "execution_count": 47,
   "id": "27265873",
   "metadata": {},
   "outputs": [],
   "source": [
    "negative_words = np.hstack(sample_train[sample_train.label == 0]['tokenized'].values)\n",
    "positive_words = np.hstack(sample_train[sample_train.label == 1]['tokenized'].values)"
   ]
  },
  {
   "cell_type": "code",
   "execution_count": 48,
   "id": "41234dcd",
   "metadata": {},
   "outputs": [
    {
     "name": "stdout",
     "output_type": "stream",
     "text": [
      "[('요', 478), ('너무', 412), ('배송', 334), ('그냥', 243), ('로', 199), ('했는데', 191), ('생각', 172), ('별로', 170), ('하고', 165), ('ㅠㅠ', 163), ('잘', 161), ('제품', 156), ('안', 156), ('못', 147), ('으로', 143), ('좀', 140), ('보다', 139), ('구매', 136), ('만', 134), ('같아요', 130)]\n"
     ]
    }
   ],
   "source": [
    "negative_word_count = Counter(negative_words)\n",
    "print(negative_word_count.most_common(20))"
   ]
  },
  {
   "cell_type": "code",
   "execution_count": 49,
   "id": "2a3f65d6",
   "metadata": {},
   "outputs": [
    {
     "name": "stdout",
     "output_type": "stream",
     "text": [
      "[('좋아요', 471), ('배송', 396), ('재구매', 270), ('구매', 260), ('너무', 251), ('잘', 250), ('요', 239), ('가격', 190), ('으로', 138), ('제품', 138), ('좋네요', 133), ('로', 128), ('같아요', 128), ('빠르고', 124), ('ㅎㅎ', 124), ('사용', 116), ('보다', 115), ('만족합니다', 109), ('생각', 109), ('주문', 108)]\n"
     ]
    }
   ],
   "source": [
    "positive_word_count = Counter(positive_words)\n",
    "print(positive_word_count.most_common(20))"
   ]
  },
  {
   "cell_type": "code",
   "execution_count": 50,
   "id": "fb25c65e",
   "metadata": {},
   "outputs": [],
   "source": [
    "# 시각화 "
   ]
  },
  {
   "cell_type": "code",
   "execution_count": 51,
   "id": "24405bef",
   "metadata": {},
   "outputs": [
    {
     "name": "stdout",
     "output_type": "stream",
     "text": [
      "긍정 리뷰의 평균 길이 : 10.369967793880837\n",
      "부정 리뷰의 평균 길이 : 13.962639109697934\n"
     ]
    },
    {
     "data": {
      "image/png": "[encoded data removed]",
      "text/plain": [
       "<Figure size 720x360 with 2 Axes>"
      ]
     },
     "metadata": {
      "needs_background": "light"
     },
     "output_type": "display_data"
    }
   ],
   "source": [
    "fig,(ax1,ax2) = plt.subplots(1,2,figsize=(10,5))\n",
    "text_len = sample_train[sample_train['label']==1]['tokenized'].map(lambda x: len(x))\n",
    "ax1.hist(text_len, color='red')\n",
    "ax1.set_title('Positive Reviews')\n",
    "ax1.set_xlabel('length of samples')\n",
    "ax1.set_ylabel('number of samples')\n",
    "print('긍정 리뷰의 평균 길이 :', np.mean(text_len))\n",
    "\n",
    "text_len = sample_train[sample_train['label']==0]['tokenized'].map(lambda x: len(x))\n",
    "ax2.hist(text_len, color='blue')\n",
    "ax2.set_title('Negative Reviews')\n",
    "fig.suptitle('Words in texts')\n",
    "ax2.set_xlabel('length of samples')\n",
    "ax2.set_ylabel('number of samples')\n",
    "print('부정 리뷰의 평균 길이 :', np.mean(text_len))\n",
    "plt.show()"
   ]
  },
  {
   "cell_type": "code",
   "execution_count": 52,
   "id": "62f49fc3",
   "metadata": {},
   "outputs": [],
   "source": [
    "X_train = sample_train['tokenized'].values\n",
    "y_train = sample_train['label'].values\n",
    "X_test = sample_test['tokenized'].values\n",
    "y_test = sample_test['label'].values"
   ]
  },
  {
   "cell_type": "code",
   "execution_count": null,
   "id": "05f4cc8c",
   "metadata": {},
   "outputs": [],
   "source": []
  },
  {
   "cell_type": "code",
   "execution_count": 53,
   "id": "359c8a84",
   "metadata": {},
   "outputs": [],
   "source": [
    "# 정수 인코딩 \n"
   ]
  },
  {
   "cell_type": "code",
   "execution_count": 54,
   "id": "c746d368",
   "metadata": {},
   "outputs": [],
   "source": [
    "tokenizer = Tokenizer()\n",
    "tokenizer.fit_on_texts(X_train)\n"
   ]
  },
  {
   "cell_type": "code",
   "execution_count": 55,
   "id": "f07390aa",
   "metadata": {},
   "outputs": [
    {
     "name": "stdout",
     "output_type": "stream",
     "text": [
      "단어 집합(vocabulary)의 크기 : 14438\n",
      "등장 빈도가 1번 이하인 희귀 단어의 수: 9118\n",
      "단어 집합에서 희귀 단어의 비율: 63.152791245324835\n",
      "전체 등장 빈도에서 희귀 단어 등장 빈도 비율: 14.974790191988701\n"
     ]
    }
   ],
   "source": [
    "threshold = 2\n",
    "total_cnt = len(tokenizer.word_index) # 단어의 수\n",
    "rare_cnt = 0 # 등장 빈도수가 threshold보다 작은 단어의 개수를 카운트\n",
    "total_freq = 0 # 훈련 데이터의 전체 단어 빈도수 총 합\n",
    "rare_freq = 0 # 등장 빈도수가 threshold보다 작은 단어의 등장 빈도수의 총 합\n",
    "\n",
    "# 단어와 빈도수의 쌍(pair)을 key와 value로 받는다.\n",
    "for key, value in tokenizer.word_counts.items():\n",
    "    total_freq = total_freq + value\n",
    "\n",
    "    # 단어의 등장 빈도수가 threshold보다 작으면\n",
    "    if(value < threshold):\n",
    "        rare_cnt = rare_cnt + 1\n",
    "        rare_freq = rare_freq + value\n",
    "\n",
    "print('단어 집합(vocabulary)의 크기 :',total_cnt)\n",
    "print('등장 빈도가 %s번 이하인 희귀 단어의 수: %s'%(threshold - 1, rare_cnt))\n",
    "print(\"단어 집합에서 희귀 단어의 비율:\", (rare_cnt / total_cnt)*100)\n",
    "print(\"전체 등장 빈도에서 희귀 단어 등장 빈도 비율:\", (rare_freq / total_freq)*100)"
   ]
  },
  {
   "cell_type": "code",
   "execution_count": 56,
   "id": "cca34069",
   "metadata": {},
   "outputs": [
    {
     "name": "stdout",
     "output_type": "stream",
     "text": [
      "단어 집합의 크기 : 5322\n"
     ]
    }
   ],
   "source": [
    "# 전체 단어 개수 중 빈도수 2이하인 단어 개수는 제거.\n",
    "# 0번 패딩 토큰과 1번 OOV 토큰을 고려하여 +2\n",
    "vocab_size = total_cnt - rare_cnt + 2\n",
    "print('단어 집합의 크기 :',vocab_size)"
   ]
  },
  {
   "cell_type": "code",
   "execution_count": 57,
   "id": "37120095",
   "metadata": {},
   "outputs": [],
   "source": [
    "## 재 토큰화 \n",
    "tokenizer = Tokenizer(vocab_size, oov_token = 'OOV') \n",
    "tokenizer.fit_on_texts(X_train)\n",
    "X_train = tokenizer.texts_to_sequences(X_train)\n",
    "X_test = tokenizer.texts_to_sequences(X_test)"
   ]
  },
  {
   "cell_type": "code",
   "execution_count": 58,
   "id": "e4070a96",
   "metadata": {},
   "outputs": [
    {
     "name": "stdout",
     "output_type": "stream",
     "text": [
      "[[35, 900, 317, 1, 1985, 80, 3, 194, 102, 95, 331, 3, 1, 452, 3, 25, 26, 2479, 833, 602, 66, 5], [1435, 1119, 2480, 2481, 2482, 236, 1, 1], [12, 332, 1, 287, 1264, 528, 200, 1, 640, 37, 1, 1654, 189, 528, 1, 1, 1120, 3356, 1986, 3, 64, 16, 1]]\n"
     ]
    }
   ],
   "source": [
    "print(X_train[:3])"
   ]
  },
  {
   "cell_type": "code",
   "execution_count": 59,
   "id": "61692681",
   "metadata": {},
   "outputs": [
    {
     "name": "stdout",
     "output_type": "stream",
     "text": [
      "[[4, 1, 1966, 4680, 144, 4145], [236, 1, 26, 1], [2, 679, 10, 91, 67, 73, 17, 561, 135, 1, 69, 1, 6, 229]]\n"
     ]
    }
   ],
   "source": [
    "print(X_test[:3])"
   ]
  },
  {
   "cell_type": "code",
   "execution_count": null,
   "id": "256844c5",
   "metadata": {},
   "outputs": [],
   "source": []
  },
  {
   "cell_type": "code",
   "execution_count": 60,
   "id": "9c8f5c04",
   "metadata": {},
   "outputs": [
    {
     "name": "stdout",
     "output_type": "stream",
     "text": [
      "리뷰의 최대 길이 : 54\n",
      "리뷰의 평균 길이 : 12.1778\n"
     ]
    },
    {
     "data": {
      "image/png": "[encoded data removed]",
      "text/plain": [
       "<Figure size 432x288 with 1 Axes>"
      ]
     },
     "metadata": {
      "needs_background": "light"
     },
     "output_type": "display_data"
    }
   ],
   "source": [
    "# 패딩 \n",
    "\n",
    "print('리뷰의 최대 길이 :',max(len(review) for review in X_train))\n",
    "print('리뷰의 평균 길이 :',sum(map(len, X_train))/len(X_train))\n",
    "plt.hist([len(review) for review in X_train], bins=50)\n",
    "plt.xlabel('length of samples')\n",
    "plt.ylabel('number of samples')\n",
    "plt.show()\n"
   ]
  },
  {
   "cell_type": "code",
   "execution_count": 61,
   "id": "ff884a95",
   "metadata": {},
   "outputs": [],
   "source": [
    "def below_threshold_len(max_len, nested_list):\n",
    "  count = 0\n",
    "  for sentence in nested_list:\n",
    "    if(len(sentence) <= max_len):\n",
    "        count = count + 1\n",
    "  print('전체 샘플 중 길이가 %s 이하인 샘플의 비율: %s'%(max_len, (count / len(nested_list))*100))"
   ]
  },
  {
   "cell_type": "code",
   "execution_count": 62,
   "id": "7f368068",
   "metadata": {},
   "outputs": [
    {
     "name": "stdout",
     "output_type": "stream",
     "text": [
      "전체 샘플 중 길이가 80 이하인 샘플의 비율: 100.0\n"
     ]
    }
   ],
   "source": [
    "max_len = 80\n",
    "below_threshold_len(max_len, X_train)"
   ]
  },
  {
   "cell_type": "code",
   "execution_count": 63,
   "id": "d48d1961",
   "metadata": {},
   "outputs": [],
   "source": [
    "# 리뷰길이 80으로 패딩 \n",
    "\n",
    "X_train = pad_sequences(X_train, maxlen=max_len)\n",
    "X_test = pad_sequences(X_test, maxlen=max_len)"
   ]
  },
  {
   "cell_type": "code",
   "execution_count": null,
   "id": "be1139ca",
   "metadata": {},
   "outputs": [],
   "source": []
  },
  {
   "cell_type": "code",
   "execution_count": 64,
   "id": "011748b5",
   "metadata": {},
   "outputs": [],
   "source": [
    "# 자연어 딥러닝 모델 "
   ]
  },
  {
   "cell_type": "code",
   "execution_count": 65,
   "id": "4476e86d",
   "metadata": {},
   "outputs": [],
   "source": [
    "from tensorflow.keras.layers import Embedding, Dense, GRU\n",
    "from tensorflow.keras.models import Sequential\n",
    "from tensorflow.keras.models import load_model\n",
    "from tensorflow.keras.callbacks import EarlyStopping, ModelCheckpoint\n"
   ]
  },
  {
   "cell_type": "code",
   "execution_count": 66,
   "id": "b5d805b9",
   "metadata": {},
   "outputs": [],
   "source": [
    "# 자연어 모델 "
   ]
  },
  {
   "cell_type": "code",
   "execution_count": 67,
   "id": "3f11990b",
   "metadata": {},
   "outputs": [
    {
     "name": "stdout",
     "output_type": "stream",
     "text": [
      "Epoch 1/20\n",
      "60/63 [===========================>..] - ETA: 0s - loss: 0.5598 - acc: 0.7195\n",
      "Epoch 00001: val_acc improved from -inf to 0.78900, saving model to best_model.h5\n",
      "63/63 [==============================] - 5s 22ms/step - loss: 0.5550 - acc: 0.7230 - val_loss: 0.4442 - val_acc: 0.7890\n",
      "Epoch 2/20\n",
      "61/63 [============================>.] - ETA: 0s - loss: 0.3182 - acc: 0.8750\n",
      "Epoch 00002: val_acc improved from 0.78900 to 0.85000, saving model to best_model.h5\n",
      "63/63 [==============================] - 1s 14ms/step - loss: 0.3195 - acc: 0.8748 - val_loss: 0.3600 - val_acc: 0.8500\n",
      "Epoch 3/20\n",
      "63/63 [==============================] - ETA: 0s - loss: 0.2285 - acc: 0.9168\n",
      "Epoch 00003: val_acc did not improve from 0.85000\n",
      "63/63 [==============================] - 1s 13ms/step - loss: 0.2285 - acc: 0.9168 - val_loss: 1.2977 - val_acc: 0.6360\n",
      "Epoch 4/20\n",
      "63/63 [==============================] - ETA: 0s - loss: 0.1884 - acc: 0.9300\n",
      "Epoch 00004: val_acc improved from 0.85000 to 0.85400, saving model to best_model.h5\n",
      "63/63 [==============================] - 1s 17ms/step - loss: 0.1884 - acc: 0.9300 - val_loss: 0.5116 - val_acc: 0.8540\n",
      "Epoch 5/20\n",
      "63/63 [==============================] - ETA: 0s - loss: 0.1498 - acc: 0.9457\n",
      "Epoch 00005: val_acc improved from 0.85400 to 0.85800, saving model to best_model.h5\n",
      "63/63 [==============================] - 1s 14ms/step - loss: 0.1498 - acc: 0.9457 - val_loss: 0.4555 - val_acc: 0.8580\n",
      "Epoch 6/20\n",
      "60/63 [===========================>..] - ETA: 0s - loss: 0.1251 - acc: 0.9565\n",
      "Epoch 00006: val_acc did not improve from 0.85800\n",
      "63/63 [==============================] - 1s 13ms/step - loss: 0.1254 - acc: 0.9570 - val_loss: 0.4400 - val_acc: 0.8450\n",
      "Epoch 00006: early stopping\n"
     ]
    }
   ],
   "source": [
    "embedding_dim = 100\n",
    "hidden_units = 128\n",
    "\n",
    "model = Sequential()\n",
    "model.add(Embedding(vocab_size, embedding_dim))\n",
    "model.add(GRU(hidden_units))\n",
    "model.add(Dense(1, activation='sigmoid'))\n",
    "\n",
    "\n",
    "\n",
    "es = EarlyStopping(monitor='val_loss', mode='min', verbose=1, patience=4)\n",
    "mc = ModelCheckpoint('best_model.h5', monitor='val_acc', mode='max', verbose=1, save_best_only=True)\n",
    "\n",
    "model.compile(optimizer='rmsprop', loss='binary_crossentropy', metrics=['acc'])\n",
    "history = model.fit(X_train, y_train, epochs=20, callbacks=[es, mc], batch_size=64, validation_split=0.2)"
   ]
  },
  {
   "cell_type": "code",
   "execution_count": 68,
   "id": "d7a8238c",
   "metadata": {},
   "outputs": [
    {
     "name": "stdout",
     "output_type": "stream",
     "text": [
      "32/32 [==============================] - 1s 5ms/step - loss: 0.4291 - acc: 0.8340\n",
      "\n",
      " 테스트 정확도: 0.8340\n"
     ]
    }
   ],
   "source": [
    "loaded_model = load_model('best_model.h5')\n",
    "print(\"\\n 테스트 정확도: %.4f\" % (loaded_model.evaluate(X_test, y_test)[1]))"
   ]
  },
  {
   "cell_type": "code",
   "execution_count": 69,
   "id": "847bf962",
   "metadata": {},
   "outputs": [],
   "source": [
    "## 리뷰예측하기\n",
    "def sentiment_predict(new_sentence):\n",
    "  new_sentence = re.sub(r'[^ㄱ-ㅎㅏ-ㅣ가-힣 ]','', new_sentence)\n",
    "  new_sentence = okt.morphs(new_sentence)\n",
    "  new_sentence = [word for word in new_sentence if not word in stopwords]\n",
    "  encoded = tokenizer.texts_to_sequences([new_sentence])\n",
    "  pad_new = pad_sequences(encoded, maxlen = max_len)\n",
    "\n",
    "  score = float(loaded_model.predict(pad_new))\n",
    "  if(score > 0.5):\n",
    "    print(\"{:.2f}% 확률로 긍정 리뷰입니다.\".format(score * 100))\n",
    "  else:\n",
    "    print(\"{:.2f}% 확률로 부정 리뷰입니다.\".format((1 - score) * 100))"
   ]
  },
  {
   "cell_type": "code",
   "execution_count": 110,
   "id": "ea65cd27",
   "metadata": {},
   "outputs": [
    {
     "name": "stdout",
     "output_type": "stream",
     "text": [
      "99.80% 확률로 긍정 리뷰입니다.\n"
     ]
    }
   ],
   "source": [
    "sentiment_predict('이 상품 2조가 만들어서 좋아요... 저는 강추합니다. 대박')"
   ]
  },
  {
   "cell_type": "code",
   "execution_count": 111,
   "id": "79db7f45",
   "metadata": {},
   "outputs": [
    {
     "name": "stdout",
     "output_type": "stream",
     "text": [
      "99.93% 확률로 부정 리뷰입니다.\n"
     ]
    }
   ],
   "source": [
    "sentiment_predict('중국짝퉁으로 후려치는 물건 사지마세요')"
   ]
  },
  {
   "cell_type": "code",
   "execution_count": 112,
   "id": "a28eddb3",
   "metadata": {},
   "outputs": [
    {
     "name": "stdout",
     "output_type": "stream",
     "text": [
      "97.76% 확률로 긍정 리뷰입니다.\n"
     ]
    }
   ],
   "source": [
    "sentiment_predict('굿굿 2조쇼핑몰 강추')"
   ]
  },
  {
   "cell_type": "code",
   "execution_count": 113,
   "id": "ad235029",
   "metadata": {},
   "outputs": [
    {
     "name": "stdout",
     "output_type": "stream",
     "text": [
      "83.03% 확률로 부정 리뷰입니다.\n"
     ]
    }
   ],
   "source": [
    "sentiment_predict(' 2조에서 만들었다고했는데 다른데서 만듬 사기꾼인가')"
   ]
  },
  {
   "cell_type": "code",
   "execution_count": 104,
   "id": "423ed361",
   "metadata": {},
   "outputs": [
    {
     "name": "stdout",
     "output_type": "stream",
     "text": [
      "98.79% 확률로 긍정 리뷰입니다.\n"
     ]
    }
   ],
   "source": [
    "sentiment_predict('배송빨라서 맘에 들어요 ㅎ')"
   ]
  },
  {
   "cell_type": "code",
   "execution_count": 114,
   "id": "96b94a7e",
   "metadata": {},
   "outputs": [
    {
     "name": "stdout",
     "output_type": "stream",
     "text": [
      "리뷰를 입력하세요 : 나이스 굿 베리나이스\n",
      "99.71% 확률로 긍정 리뷰입니다.\n"
     ]
    }
   ],
   "source": [
    "reviews = str(input('리뷰를 입력하세요 : '))\n",
    "sentiment_predict(reviews)"
   ]
  },
  {
   "cell_type": "code",
   "execution_count": null,
   "id": "94c038b5",
   "metadata": {},
   "outputs": [],
   "source": []
  },
  {
   "cell_type": "code",
   "execution_count": null,
   "id": "177e351e",
   "metadata": {},
   "outputs": [],
   "source": []
  },
  {
   "cell_type": "code",
   "execution_count": null,
   "id": "61c4cfda",
   "metadata": {},
   "outputs": [],
   "source": []
  },
  {
   "cell_type": "code",
   "execution_count": null,
   "id": "4f5fa39a",
   "metadata": {},
   "outputs": [],
   "source": []
  },
  {
   "cell_type": "code",
   "execution_count": null,
   "id": "a489b5d7",
   "metadata": {},
   "outputs": [],
   "source": []
  },
  {
   "cell_type": "code",
   "execution_count": null,
   "id": "2f49a868",
   "metadata": {},
   "outputs": [],
   "source": []
  },
  {
   "cell_type": "code",
   "execution_count": null,
   "id": "8b36b154",
   "metadata": {},
   "outputs": [],
   "source": []
  }
 ],
 "metadata": {
  "kernelspec": {
   "display_name": "tensor01",
   "language": "python",
   "name": "tensor01"
  },
  "language_info": {
   "codemirror_mode": {
    "name": "ipython",
    "version": 3
   },
   "file_extension": ".py",
   "mimetype": "text/x-python",
   "name": "python",
   "nbconvert_exporter": "python",
   "pygments_lexer": "ipython3",
   "version": "3.9.7"
  },
  "varInspector": {
   "cols": {
    "lenName": 16,
    "lenType": 16,
    "lenVar": 40
   },
   "kernels_config": {
    "python": {
     "delete_cmd_postfix": "",
     "delete_cmd_prefix": "del ",
     "library": "var_list.py",
     "varRefreshCmd": "print(var_dic_list())"
    },
    "r": {
     "delete_cmd_postfix": ") ",
     "delete_cmd_prefix": "rm(",
     "library": "var_list.r",
     "varRefreshCmd": "cat(var_dic_list()) "
    }
   },
   "types_to_exclude": [
    "module",
    "function",
    "builtin_function_or_method",
    "instance",
    "_Feature"
   ],
   "window_display": false
  }
 },
 "nbformat": 4,
 "nbformat_minor": 5
}
